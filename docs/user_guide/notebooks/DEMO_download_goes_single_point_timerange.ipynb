{
 "cells": [
  {
   "cell_type": "markdown",
   "metadata": {},
   "source": [
    "**Isaac Barlet**  \n",
    "*June 13, 2024*\n",
    "\n",
    "# Download GOES Data: Single Point Timerange\n",
    "For all options, refer to the GOES-2-go Reference Guide: [goes2go.data.goes_single_point_timerange](https://blaylockbk.github.io/goes2go/_build/html/reference_guide/index.html#goes2go.data.goes_single_point_timerange)"
   ]
  },
  {
   "cell_type": "code",
   "execution_count": 1,
   "metadata": {},
   "outputs": [
    {
     "name": "stderr",
     "output_type": "stream",
     "text": [
      "c:\\Users\\ibarlet_linevisionin\\anaconda3\\envs\\goes\\lib\\site-packages\\goes2go\\data.py:519: FutureWarning: 'H' is deprecated and will be removed in a future version. Please use 'h' instead of 'H'.\n",
      "  within=pd.to_timedelta(config[\"nearesttime\"].get(\"within\", \"1H\")),\n",
      "c:\\Users\\ibarlet_linevisionin\\anaconda3\\envs\\goes\\lib\\site-packages\\goes2go\\NEW.py:188: FutureWarning: 'H' is deprecated and will be removed in a future version. Please use 'h' instead of 'H'.\n",
      "  within=pd.to_timedelta(config[\"nearesttime\"].get(\"within\", \"1H\")),\n"
     ]
    },
    {
     "ename": "ImportError",
     "evalue": "cannot import name 'goes_single_point_timerange' from 'goes2go.data' (c:\\Users\\ibarlet_linevisionin\\anaconda3\\envs\\goes\\lib\\site-packages\\goes2go\\data.py)",
     "output_type": "error",
     "traceback": [
      "\u001b[1;31m---------------------------------------------------------------------------\u001b[0m",
      "\u001b[1;31mImportError\u001b[0m                               Traceback (most recent call last)",
      "Cell \u001b[1;32mIn[1], line 1\u001b[0m\n\u001b[1;32m----> 1\u001b[0m \u001b[38;5;28;01mfrom\u001b[39;00m \u001b[38;5;21;01mgoes2go\u001b[39;00m\u001b[38;5;21;01m.\u001b[39;00m\u001b[38;5;21;01mdata\u001b[39;00m \u001b[38;5;28;01mimport\u001b[39;00m goes_single_point_timerange\n\u001b[0;32m      3\u001b[0m \u001b[38;5;28;01mfrom\u001b[39;00m \u001b[38;5;21;01mdatetime\u001b[39;00m \u001b[38;5;28;01mimport\u001b[39;00m datetime\n\u001b[0;32m      4\u001b[0m \u001b[38;5;28;01mimport\u001b[39;00m \u001b[38;5;21;01mpandas\u001b[39;00m \u001b[38;5;28;01mas\u001b[39;00m \u001b[38;5;21;01mpd\u001b[39;00m\n",
      "\u001b[1;31mImportError\u001b[0m: cannot import name 'goes_single_point_timerange' from 'goes2go.data' (c:\\Users\\ibarlet_linevisionin\\anaconda3\\envs\\goes\\lib\\site-packages\\goes2go\\data.py)"
     ]
    }
   ],
   "source": [
    "from goes2go.data import goes_single_point_timerange\n",
    "\n",
    "from datetime import datetime\n",
    "import pandas as pd"
   ]
  },
  {
   "cell_type": "markdown",
   "metadata": {},
   "source": [
    "---\n",
    "### Example 1: \n",
    "Download an ABI file from GOES-East for an hour period. Data is returned as a file list. This behaves the same as the normal timerange method"
   ]
  },
  {
   "cell_type": "code",
   "execution_count": 2,
   "metadata": {},
   "outputs": [
    {
     "name": "stdout",
     "output_type": "stream",
     "text": [
      " _______________________________\n",
      " | Satellite: noaa-goes16      |\n",
      " |   Product: ABI-L2-MCMIPC    |\n",
      " |    Domain: C                |\n",
      "📦 Finished downloading [12] files to [/p/home/blaylock/data/noaa-goes16/ABI-L2-MCMIPC].                                                                                                                                                                                                                                                                                                                                                                                                                                                                                                                                                                                                                                                                                                                                                                                                                                                                                                                                                \n"
     ]
    }
   ],
   "source": [
    "## Latitudes and \n",
    "\n",
    "## Dates may be specified as datetime, pandas datetimes, or string dates\n",
    "## that pandas can interpret.\n",
    "\n",
    "## Specify start/end time with datetime object\n",
    "#start = datetime(2021, 1, 1, 0, 30)\n",
    "#end = datetime(2021, 1, 1, 1, 30)\n",
    "\n",
    "## Specify start/end time as a panda-parsable string\n",
    "start = '2021-01-01 00:30'\n",
    "end = '2021-01-01 01:30'\n",
    "\n",
    "g = goes_single_point_timerange(start, end,\n",
    "                                satellite='goes16',\n",
    "                                product='ABI',\n",
    "                                return_as='filelist')"
   ]
  },
  {
   "cell_type": "code",
   "execution_count": 3,
   "metadata": {},
   "outputs": [
    {
     "data": {
      "text/html": [
       "<div>\n",
       "<style scoped>\n",
       "    .dataframe tbody tr th:only-of-type {\n",
       "        vertical-align: middle;\n",
       "    }\n",
       "\n",
       "    .dataframe tbody tr th {\n",
       "        vertical-align: top;\n",
       "    }\n",
       "\n",
       "    .dataframe thead th {\n",
       "        text-align: right;\n",
       "    }\n",
       "</style>\n",
       "<table border=\"1\" class=\"dataframe\">\n",
       "  <thead>\n",
       "    <tr style=\"text-align: right;\">\n",
       "      <th></th>\n",
       "      <th>file</th>\n",
       "      <th>start</th>\n",
       "      <th>end</th>\n",
       "      <th>creation</th>\n",
       "    </tr>\n",
       "  </thead>\n",
       "  <tbody>\n",
       "    <tr>\n",
       "      <th>0</th>\n",
       "      <td>noaa-goes16/ABI-L2-MCMIPC/2021/001/00/OR_ABI-L...</td>\n",
       "      <td>2021-01-01 00:31:17.600</td>\n",
       "      <td>2021-01-01 00:33:56.100</td>\n",
       "      <td>2021-01-01 00:34:10.300</td>\n",
       "    </tr>\n",
       "    <tr>\n",
       "      <th>1</th>\n",
       "      <td>noaa-goes16/ABI-L2-MCMIPC/2021/001/00/OR_ABI-L...</td>\n",
       "      <td>2021-01-01 00:36:17.600</td>\n",
       "      <td>2021-01-01 00:38:55.500</td>\n",
       "      <td>2021-01-01 00:39:09.900</td>\n",
       "    </tr>\n",
       "    <tr>\n",
       "      <th>2</th>\n",
       "      <td>noaa-goes16/ABI-L2-MCMIPC/2021/001/00/OR_ABI-L...</td>\n",
       "      <td>2021-01-01 00:41:17.600</td>\n",
       "      <td>2021-01-01 00:43:56.100</td>\n",
       "      <td>2021-01-01 00:44:09.200</td>\n",
       "    </tr>\n",
       "    <tr>\n",
       "      <th>3</th>\n",
       "      <td>noaa-goes16/ABI-L2-MCMIPC/2021/001/00/OR_ABI-L...</td>\n",
       "      <td>2021-01-01 00:46:17.600</td>\n",
       "      <td>2021-01-01 00:48:56.100</td>\n",
       "      <td>2021-01-01 00:49:09.600</td>\n",
       "    </tr>\n",
       "    <tr>\n",
       "      <th>4</th>\n",
       "      <td>noaa-goes16/ABI-L2-MCMIPC/2021/001/00/OR_ABI-L...</td>\n",
       "      <td>2021-01-01 00:51:17.600</td>\n",
       "      <td>2021-01-01 00:53:55.500</td>\n",
       "      <td>2021-01-01 00:54:10.500</td>\n",
       "    </tr>\n",
       "    <tr>\n",
       "      <th>5</th>\n",
       "      <td>noaa-goes16/ABI-L2-MCMIPC/2021/001/00/OR_ABI-L...</td>\n",
       "      <td>2021-01-01 00:56:17.600</td>\n",
       "      <td>2021-01-01 00:58:55.500</td>\n",
       "      <td>2021-01-01 00:59:09.000</td>\n",
       "    </tr>\n",
       "    <tr>\n",
       "      <th>6</th>\n",
       "      <td>noaa-goes16/ABI-L2-MCMIPC/2021/001/01/OR_ABI-L...</td>\n",
       "      <td>2021-01-01 01:01:17.600</td>\n",
       "      <td>2021-01-01 01:03:54.900</td>\n",
       "      <td>2021-01-01 01:04:10.200</td>\n",
       "    </tr>\n",
       "    <tr>\n",
       "      <th>7</th>\n",
       "      <td>noaa-goes16/ABI-L2-MCMIPC/2021/001/01/OR_ABI-L...</td>\n",
       "      <td>2021-01-01 01:06:17.600</td>\n",
       "      <td>2021-01-01 01:08:56.100</td>\n",
       "      <td>2021-01-01 01:09:09.400</td>\n",
       "    </tr>\n",
       "    <tr>\n",
       "      <th>8</th>\n",
       "      <td>noaa-goes16/ABI-L2-MCMIPC/2021/001/01/OR_ABI-L...</td>\n",
       "      <td>2021-01-01 01:11:17.600</td>\n",
       "      <td>2021-01-01 01:13:55.500</td>\n",
       "      <td>2021-01-01 01:14:10.300</td>\n",
       "    </tr>\n",
       "    <tr>\n",
       "      <th>9</th>\n",
       "      <td>noaa-goes16/ABI-L2-MCMIPC/2021/001/01/OR_ABI-L...</td>\n",
       "      <td>2021-01-01 01:16:17.600</td>\n",
       "      <td>2021-01-01 01:18:56.100</td>\n",
       "      <td>2021-01-01 01:19:09.600</td>\n",
       "    </tr>\n",
       "    <tr>\n",
       "      <th>10</th>\n",
       "      <td>noaa-goes16/ABI-L2-MCMIPC/2021/001/01/OR_ABI-L...</td>\n",
       "      <td>2021-01-01 01:21:17.600</td>\n",
       "      <td>2021-01-01 01:23:54.900</td>\n",
       "      <td>2021-01-01 01:24:10.200</td>\n",
       "    </tr>\n",
       "    <tr>\n",
       "      <th>11</th>\n",
       "      <td>noaa-goes16/ABI-L2-MCMIPC/2021/001/01/OR_ABI-L...</td>\n",
       "      <td>2021-01-01 01:26:17.600</td>\n",
       "      <td>2021-01-01 01:28:55.500</td>\n",
       "      <td>2021-01-01 01:29:09.000</td>\n",
       "    </tr>\n",
       "  </tbody>\n",
       "</table>\n",
       "</div>"
      ],
      "text/plain": [
       "                                                 file                   start  \\\n",
       "0   noaa-goes16/ABI-L2-MCMIPC/2021/001/00/OR_ABI-L... 2021-01-01 00:31:17.600   \n",
       "1   noaa-goes16/ABI-L2-MCMIPC/2021/001/00/OR_ABI-L... 2021-01-01 00:36:17.600   \n",
       "2   noaa-goes16/ABI-L2-MCMIPC/2021/001/00/OR_ABI-L... 2021-01-01 00:41:17.600   \n",
       "3   noaa-goes16/ABI-L2-MCMIPC/2021/001/00/OR_ABI-L... 2021-01-01 00:46:17.600   \n",
       "4   noaa-goes16/ABI-L2-MCMIPC/2021/001/00/OR_ABI-L... 2021-01-01 00:51:17.600   \n",
       "5   noaa-goes16/ABI-L2-MCMIPC/2021/001/00/OR_ABI-L... 2021-01-01 00:56:17.600   \n",
       "6   noaa-goes16/ABI-L2-MCMIPC/2021/001/01/OR_ABI-L... 2021-01-01 01:01:17.600   \n",
       "7   noaa-goes16/ABI-L2-MCMIPC/2021/001/01/OR_ABI-L... 2021-01-01 01:06:17.600   \n",
       "8   noaa-goes16/ABI-L2-MCMIPC/2021/001/01/OR_ABI-L... 2021-01-01 01:11:17.600   \n",
       "9   noaa-goes16/ABI-L2-MCMIPC/2021/001/01/OR_ABI-L... 2021-01-01 01:16:17.600   \n",
       "10  noaa-goes16/ABI-L2-MCMIPC/2021/001/01/OR_ABI-L... 2021-01-01 01:21:17.600   \n",
       "11  noaa-goes16/ABI-L2-MCMIPC/2021/001/01/OR_ABI-L... 2021-01-01 01:26:17.600   \n",
       "\n",
       "                       end                creation  \n",
       "0  2021-01-01 00:33:56.100 2021-01-01 00:34:10.300  \n",
       "1  2021-01-01 00:38:55.500 2021-01-01 00:39:09.900  \n",
       "2  2021-01-01 00:43:56.100 2021-01-01 00:44:09.200  \n",
       "3  2021-01-01 00:48:56.100 2021-01-01 00:49:09.600  \n",
       "4  2021-01-01 00:53:55.500 2021-01-01 00:54:10.500  \n",
       "5  2021-01-01 00:58:55.500 2021-01-01 00:59:09.000  \n",
       "6  2021-01-01 01:03:54.900 2021-01-01 01:04:10.200  \n",
       "7  2021-01-01 01:08:56.100 2021-01-01 01:09:09.400  \n",
       "8  2021-01-01 01:13:55.500 2021-01-01 01:14:10.300  \n",
       "9  2021-01-01 01:18:56.100 2021-01-01 01:19:09.600  \n",
       "10 2021-01-01 01:23:54.900 2021-01-01 01:24:10.200  \n",
       "11 2021-01-01 01:28:55.500 2021-01-01 01:29:09.000  "
      ]
     },
     "execution_count": 3,
     "metadata": {},
     "output_type": "execute_result"
    }
   ],
   "source": [
    "g"
   ]
  },
  {
   "cell_type": "code",
   "execution_count": 4,
   "metadata": {},
   "outputs": [
    {
     "data": {
      "text/plain": [
       "{'satellite': 'noaa-goes16',\n",
       " 'product': 'ABI-L2-MCMIPC',\n",
       " 'start': Timestamp('2021-01-01 00:30:00'),\n",
       " 'end': Timestamp('2021-01-01 01:30:00'),\n",
       " 'filePath': PosixPath('/p/home/blaylock/data')}"
      ]
     },
     "execution_count": 4,
     "metadata": {},
     "output_type": "execute_result"
    }
   ],
   "source": [
    "g.attrs"
   ]
  },
  {
   "cell_type": "markdown",
   "metadata": {},
   "source": [
    "### Show the files on my home drive..."
   ]
  },
  {
   "cell_type": "code",
   "execution_count": 5,
   "metadata": {},
   "outputs": [
    {
     "name": "stdout",
     "output_type": "stream",
     "text": [
      "/p/home/blaylock/data\n",
      "└── noaa-goes16\n",
      "    └── ABI-L2-MCMIPC\n",
      "        └── 2021\n",
      "            └── 001\n",
      "                ├── 00\n",
      "                │   ├── OR_ABI-L2-MCMIPC-M6_G16_s20210010031176_e20210010033561_c20210010034103.nc\n",
      "                │   ├── OR_ABI-L2-MCMIPC-M6_G16_s20210010036176_e20210010038555_c20210010039099.nc\n",
      "                │   ├── OR_ABI-L2-MCMIPC-M6_G16_s20210010041176_e20210010043561_c20210010044092.nc\n",
      "                │   ├── OR_ABI-L2-MCMIPC-M6_G16_s20210010046176_e20210010048561_c20210010049096.nc\n",
      "                │   ├── OR_ABI-L2-MCMIPC-M6_G16_s20210010051176_e20210010053555_c20210010054105.nc\n",
      "                │   └── OR_ABI-L2-MCMIPC-M6_G16_s20210010056176_e20210010058555_c20210010059090.nc\n",
      "                └── 01\n",
      "                    ├── OR_ABI-L2-MCMIPC-M6_G16_s20210010101176_e20210010103549_c20210010104102.nc\n",
      "                    ├── OR_ABI-L2-MCMIPC-M6_G16_s20210010106176_e20210010108561_c20210010109094.nc\n",
      "                    ├── OR_ABI-L2-MCMIPC-M6_G16_s20210010111176_e20210010113555_c20210010114103.nc\n",
      "                    ├── OR_ABI-L2-MCMIPC-M6_G16_s20210010116176_e20210010118561_c20210010119096.nc\n",
      "                    ├── OR_ABI-L2-MCMIPC-M6_G16_s20210010121176_e20210010123549_c20210010124102.nc\n",
      "                    └── OR_ABI-L2-MCMIPC-M6_G16_s20210010126176_e20210010128555_c20210010129090.nc\n",
      "\n",
      "6 directories, 12 files\n"
     ]
    }
   ],
   "source": [
    "%%bash\n",
    "tree ~/data"
   ]
  },
  {
   "cell_type": "code",
   "execution_count": null,
   "metadata": {},
   "outputs": [],
   "source": []
  }
 ],
 "metadata": {
  "kernelspec": {
   "display_name": "Python 3",
   "language": "python",
   "name": "python3"
  },
  "language_info": {
   "codemirror_mode": {
    "name": "ipython",
    "version": 3
   },
   "file_extension": ".py",
   "mimetype": "text/x-python",
   "name": "python",
   "nbconvert_exporter": "python",
   "pygments_lexer": "ipython3",
   "version": "3.10.14"
  }
 },
 "nbformat": 4,
 "nbformat_minor": 4
}
